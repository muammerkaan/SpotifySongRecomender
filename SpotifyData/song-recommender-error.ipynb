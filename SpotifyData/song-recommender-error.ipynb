{
 "cells": [
  {
   "cell_type": "markdown",
   "metadata": {},
   "source": [
<<<<<<< HEAD
    "# Building a Spotify Recommender based on Listening History and Song Features\n",
=======
    "# Building a Spotify Recommender based on Listening History and Song Features \n",
>>>>>>> fa25c3fd54c025c7a2c20bc926019145d5a566fb
    "### Introduction\n",
    "Based on my Spotify Wrapped for 2019, I accumulated 120,000+ minutes of listening which translates to over 2000 hours, which also translates to a whooping 83.3 days. So I do consider myself a huge music enthusiast and enjoy exploring all the different genres music has to offer. Because of my extensive listening history, I realized I had a lot of data to work with to create a classifier that will state whether or not I would like to listen to a song or not.\n",
    "\n",
    "### About the Data \n",
    "* Two datasets: \"StreamingHistory.csv\" (my Spotify listening history) and \"SpotifyFeatures.csv\" (dataset with songs and song features)\n",
    "* StreamingHistory.csv was obtained through Spotify with a json drop.\n",
    "* SpotifyFeatures.csv was downloaded from kaggle. (https://tinyurl.com/y7mpts3e)\n",
    "\n",
    "StreamingHistory.csv has 66,203 rows and 4 columns (Artist, Date, msPlayed, trackName). SpotifyFeatures.csv contains 223,044 rows and 17 columns. Of these 17 columns, 14 are related to a song's feautures such as popularity, mode, key, and etc. (Read more about the features here: https://developer.spotify.com/documentation/web-api/reference/tracks/get-audio-features/) Moreover, each row represents an individual song. \n",
    "\n",
    "### Objective\n",
    "In this project, I will build a song recommender based on my personal Spotify listening history and a Spotify song features dataset. To accomplish this, I will compare 3 classifier models: \n",
    "* Logistic Regression\n",
    "* Decision Trees \n",
    "* Random Forest\n",
    "\n",
    "I will evaluate each model based on the F1 score.\n",
    "\n",
    "#### Why use F1 score? \n",
    "The F1 score enables us to take into account false negatives and false positives when calculating the accuracy of a model. If we use the generic accuracy_score method, false positives would be considered as correct predictions which is something that is inaccurate and would mislead me into thinking my model is more accurate than it is. \n",
    "#### Defining our prediction variable\n",
    "Our prediction variable will be called \"favorite\" with 1 representing a well-liked song and 0 representing otherwise.\n",
    "But, what is a 'favorite' song? I decided to label songs with more than 15 listens as a favorite and those with less as not. \n",
    "\n",
    "Why 15? When I plotted the song counts on a histogram, there was a substantial drop in song frequencies after 15. These cutoff seemed like a perfect place to differentiate songs that I casual listen to versus songs that I truly enjoy. \n",
    "\n",
    "![favorite](data/favorite.png)\n",
    "\n",
    "### Results and Actionable Next Steps\n",
    "I was able to train a Logistic Regresssion model with a F1 score of 86% on unseen test data. The RandomForest model came in close at 84% while the DecisionTrees model was last at 73%. \n",
    "\n",
    "Moreover, this project has enabled me to obtain a mass recommendation of songs at once instead of having to go through options such as Discover Weekly (limited to 30 songs), look through different playlists, or opt for a playlist radio.\n",
    "\n",
    "This project has also created two actionable next steps. First, I created a script that enables me to automate playlist creations by converting .csv recommendation files into a Spotify playlist. \n",
    "* Link to that script can be found here: https://github.com/isacmlee/csv-to-playlist.\n",
    "\n",
    "Second, I have also productionized a version of this model at http://www.whatspopping.xyz/. If curious, please give it a try! :)"
   ]
  },
  {
   "cell_type": "markdown",
   "metadata": {},
   "source": [
    "# Code\n"
   ]
  },
  {
   "cell_type": "markdown",
   "metadata": {},
   "source": [
    "### Data Cleaning / Exploration "
   ]
  },
  {
   "cell_type": "code",
   "execution_count": 102,
   "metadata": {},
   "outputs": [],
   "source": [
    "# Importing required libraries.\n",
    "import pandas as pd\n",
    "import numpy as np\n",
    "import seaborn as sns \n",
    "import matplotlib.pyplot as plt "
   ]
  },
  {
   "cell_type": "code",
   "execution_count": 103,
   "metadata": {},
   "outputs": [
    {
     "data": {
      "text/html": [
       "<div>\n",
       "<style scoped>\n",
       "    .dataframe tbody tr th:only-of-type {\n",
       "        vertical-align: middle;\n",
       "    }\n",
       "\n",
       "    .dataframe tbody tr th {\n",
       "        vertical-align: top;\n",
       "    }\n",
       "\n",
       "    .dataframe thead th {\n",
       "        text-align: right;\n",
       "    }\n",
       "</style>\n",
       "<table border=\"1\" class=\"dataframe\">\n",
       "  <thead>\n",
       "    <tr style=\"text-align: right;\">\n",
       "      <th></th>\n",
       "      <th>Unnamed: 0</th>\n",
       "      <th>artistName</th>\n",
       "      <th>endTime</th>\n",
       "      <th>msPlayed</th>\n",
       "      <th>trackName</th>\n",
       "    </tr>\n",
       "  </thead>\n",
       "  <tbody>\n",
       "    <tr>\n",
       "      <th>0</th>\n",
       "      <td>0</td>\n",
       "      <td>Roy Woods</td>\n",
       "      <td>2018-12-18 21:44</td>\n",
       "      <td>77725</td>\n",
       "      <td>Down Girl</td>\n",
       "    </tr>\n",
       "    <tr>\n",
       "      <th>1</th>\n",
       "      <td>1</td>\n",
       "      <td>Drake</td>\n",
       "      <td>2018-12-19 01:27</td>\n",
       "      <td>1000</td>\n",
       "      <td>Marvins Room</td>\n",
       "    </tr>\n",
       "    <tr>\n",
       "      <th>2</th>\n",
       "      <td>2</td>\n",
       "      <td>Roy Woods</td>\n",
       "      <td>2018-12-19 01:27</td>\n",
       "      <td>2370</td>\n",
       "      <td>Down Girl</td>\n",
       "    </tr>\n",
       "    <tr>\n",
       "      <th>3</th>\n",
       "      <td>3</td>\n",
       "      <td>Sabrina Claudio</td>\n",
       "      <td>2018-12-19 01:32</td>\n",
       "      <td>214607</td>\n",
       "      <td>Too Much Too Late</td>\n",
       "    </tr>\n",
       "    <tr>\n",
       "      <th>4</th>\n",
       "      <td>4</td>\n",
       "      <td>Logic</td>\n",
       "      <td>2018-12-19 01:35</td>\n",
       "      <td>182266</td>\n",
       "      <td>44 Bars</td>\n",
       "    </tr>\n",
       "  </tbody>\n",
       "</table>\n",
       "</div>"
      ],
      "text/plain": [
       "   Unnamed: 0       artistName           endTime  msPlayed          trackName\n",
       "0           0        Roy Woods  2018-12-18 21:44     77725          Down Girl\n",
       "1           1            Drake  2018-12-19 01:27      1000       Marvins Room\n",
       "2           2        Roy Woods  2018-12-19 01:27      2370          Down Girl\n",
       "3           3  Sabrina Claudio  2018-12-19 01:32    214607  Too Much Too Late\n",
       "4           4            Logic  2018-12-19 01:35    182266            44 Bars"
      ]
     },
     "execution_count": 103,
     "metadata": {},
     "output_type": "execute_result"
    }
   ],
   "source": [
    "# Read-in Personal Listening History\n",
    "df = pd.read_csv(\"data/StreamingHistory.csv\")\n",
    "df.head()"
   ]
  },
  {
   "cell_type": "code",
   "execution_count": 104,
   "metadata": {},
   "outputs": [],
   "source": [
    "# Dropping irrelevant columns \n",
    "df = df.drop('Unnamed: 0', axis=1)\n",
    "# Renaming the column names\n",
    "df = df.rename(columns={\"artistName\":\"artist\",\"endTime\":\"date\",\"trackName\":\"track\"})"
   ]
  },
  {
   "cell_type": "markdown",
   "metadata": {},
   "source": [
    "I will define a favorite song as a song with 15 or more listens and create a new dataframe that contains only those songs.\n",
    "\n",
    "**Why did we choose 15?**\n",
    "\n",
    "\n",
    "As seen from the histogram below, the first major drop in song frequencies comes around 15. This enables me to eliminate many songs that may cause the model to be more complicated and also prevents me from taking into account songs that I may have accidently listened to on the radio instead of intentionally listening to it. "
   ]
  },
  {
   "cell_type": "code",
   "execution_count": 105,
   "metadata": {},
   "outputs": [
    {
     "data": {
      "text/plain": [
       "Text(0.5, 1.0, \"Choosing what is a 'favorite' song\")"
      ]
     },
     "execution_count": 105,
     "metadata": {},
     "output_type": "execute_result"
    },
    {
     "data": {
      "image/png": "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\n",
      "text/plain": [
       "<Figure size 432x288 with 1 Axes>"
      ]
     },
     "metadata": {
      "needs_background": "light"
     },
     "output_type": "display_data"
    }
   ],
   "source": [
    "ax = df.groupby(['artist','track']).size().to_frame('count').reset_index().plot(kind='hist',bins=9)\n",
    "ax.set_xlim(0,40)\n",
    "ax.set_title(\"Choosing what is a 'favorite' song\")"
   ]
  },
  {
   "cell_type": "code",
   "execution_count": 106,
   "metadata": {},
   "outputs": [
    {
     "data": {
      "text/html": [
       "<div>\n",
       "<style scoped>\n",
       "    .dataframe tbody tr th:only-of-type {\n",
       "        vertical-align: middle;\n",
       "    }\n",
       "\n",
       "    .dataframe tbody tr th {\n",
       "        vertical-align: top;\n",
       "    }\n",
       "\n",
       "    .dataframe thead th {\n",
       "        text-align: right;\n",
       "    }\n",
       "</style>\n",
       "<table border=\"1\" class=\"dataframe\">\n",
       "  <thead>\n",
       "    <tr style=\"text-align: right;\">\n",
       "      <th></th>\n",
       "      <th>artist</th>\n",
       "      <th>track</th>\n",
       "      <th>count</th>\n",
       "    </tr>\n",
       "  </thead>\n",
       "  <tbody>\n",
       "    <tr>\n",
       "      <th>42</th>\n",
       "      <td>5 Seconds of Summer</td>\n",
       "      <td>Youngblood</td>\n",
       "      <td>20</td>\n",
       "    </tr>\n",
       "    <tr>\n",
       "      <th>50</th>\n",
       "      <td>6LACK</td>\n",
       "      <td>Ex Calling</td>\n",
       "      <td>25</td>\n",
       "    </tr>\n",
       "    <tr>\n",
       "      <th>57</th>\n",
       "      <td>6LACK</td>\n",
       "      <td>Pretty Little Fears (feat. J. Cole)</td>\n",
       "      <td>77</td>\n",
       "    </tr>\n",
       "    <tr>\n",
       "      <th>58</th>\n",
       "      <td>6LACK</td>\n",
       "      <td>Seasons (feat. Khalid)</td>\n",
       "      <td>70</td>\n",
       "    </tr>\n",
       "    <tr>\n",
       "      <th>72</th>\n",
       "      <td>88rising</td>\n",
       "      <td>Head In The Clouds</td>\n",
       "      <td>45</td>\n",
       "    </tr>\n",
       "  </tbody>\n",
       "</table>\n",
       "</div>"
      ],
      "text/plain": [
       "                 artist                                track  count\n",
       "42  5 Seconds of Summer                           Youngblood     20\n",
       "50                6LACK                           Ex Calling     25\n",
       "57                6LACK  Pretty Little Fears (feat. J. Cole)     77\n",
       "58                6LACK               Seasons (feat. Khalid)     70\n",
       "72             88rising                   Head In The Clouds     45"
      ]
     },
     "execution_count": 106,
     "metadata": {},
     "output_type": "execute_result"
    }
   ],
   "source": [
    "# Find number of occurences of each song, and keep songs with 15 or more listnes\n",
    "df.groupby(['artist','track']).size().to_frame('count').reset_index()\n",
    "df = df.groupby(['artist','track']).size().to_frame('count').reset_index()\n",
    "df = df[df['count']>=15]\n",
    "# To display the top 5 rows\n",
    "df.head(5)"
   ]
  },
  {
   "cell_type": "code",
   "execution_count": 107,
   "metadata": {},
   "outputs": [
    {
     "data": {
      "text/html": [
       "<div>\n",
       "<style scoped>\n",
       "    .dataframe tbody tr th:only-of-type {\n",
       "        vertical-align: middle;\n",
       "    }\n",
       "\n",
       "    .dataframe tbody tr th {\n",
       "        vertical-align: top;\n",
       "    }\n",
       "\n",
       "    .dataframe thead th {\n",
       "        text-align: right;\n",
       "    }\n",
       "</style>\n",
       "<table border=\"1\" class=\"dataframe\">\n",
       "  <thead>\n",
       "    <tr style=\"text-align: right;\">\n",
       "      <th></th>\n",
       "      <th>genre</th>\n",
       "      <th>artist</th>\n",
       "      <th>track</th>\n",
       "      <th>track_id</th>\n",
       "      <th>popularity</th>\n",
       "      <th>acousticness</th>\n",
       "      <th>danceability</th>\n",
       "      <th>duration_ms</th>\n",
       "      <th>energy</th>\n",
       "      <th>instrumentalness</th>\n",
       "      <th>key</th>\n",
       "      <th>liveness</th>\n",
       "      <th>loudness</th>\n",
       "      <th>mode</th>\n",
       "      <th>speechiness</th>\n",
       "      <th>tempo</th>\n",
       "      <th>time_signature</th>\n",
       "      <th>valence</th>\n",
       "    </tr>\n",
       "  </thead>\n",
       "  <tbody>\n",
       "    <tr>\n",
       "      <th>0</th>\n",
       "      <td>Movie</td>\n",
       "      <td>Henri Salvador</td>\n",
       "      <td>C'est beau de faire un Show</td>\n",
       "      <td>0BRjO6ga9RKCKjfDqeFgWV</td>\n",
       "      <td>0</td>\n",
       "      <td>0.611</td>\n",
       "      <td>0.389</td>\n",
       "      <td>99373</td>\n",
       "      <td>0.910</td>\n",
       "      <td>0.000</td>\n",
       "      <td>C#</td>\n",
       "      <td>0.3460</td>\n",
       "      <td>-1.828</td>\n",
       "      <td>Major</td>\n",
       "      <td>0.0525</td>\n",
       "      <td>166.969</td>\n",
       "      <td>4/4</td>\n",
       "      <td>0.814</td>\n",
       "    </tr>\n",
       "    <tr>\n",
       "      <th>1</th>\n",
       "      <td>Movie</td>\n",
       "      <td>Martin &amp; les fées</td>\n",
       "      <td>Perdu d'avance (par Gad Elmaleh)</td>\n",
       "      <td>0BjC1NfoEOOusryehmNudP</td>\n",
       "      <td>1</td>\n",
       "      <td>0.246</td>\n",
       "      <td>0.590</td>\n",
       "      <td>137373</td>\n",
       "      <td>0.737</td>\n",
       "      <td>0.000</td>\n",
       "      <td>F#</td>\n",
       "      <td>0.1510</td>\n",
       "      <td>-5.559</td>\n",
       "      <td>Minor</td>\n",
       "      <td>0.0868</td>\n",
       "      <td>174.003</td>\n",
       "      <td>4/4</td>\n",
       "      <td>0.816</td>\n",
       "    </tr>\n",
       "    <tr>\n",
       "      <th>2</th>\n",
       "      <td>Movie</td>\n",
       "      <td>Joseph Williams</td>\n",
       "      <td>Don't Let Me Be Lonely Tonight</td>\n",
       "      <td>0CoSDzoNIKCRs124s9uTVy</td>\n",
       "      <td>3</td>\n",
       "      <td>0.952</td>\n",
       "      <td>0.663</td>\n",
       "      <td>170267</td>\n",
       "      <td>0.131</td>\n",
       "      <td>0.000</td>\n",
       "      <td>C</td>\n",
       "      <td>0.1030</td>\n",
       "      <td>-13.879</td>\n",
       "      <td>Minor</td>\n",
       "      <td>0.0362</td>\n",
       "      <td>99.488</td>\n",
       "      <td>5/4</td>\n",
       "      <td>0.368</td>\n",
       "    </tr>\n",
       "    <tr>\n",
       "      <th>3</th>\n",
       "      <td>Movie</td>\n",
       "      <td>Henri Salvador</td>\n",
       "      <td>Dis-moi Monsieur Gordon Cooper</td>\n",
       "      <td>0Gc6TVm52BwZD07Ki6tIvf</td>\n",
       "      <td>0</td>\n",
       "      <td>0.703</td>\n",
       "      <td>0.240</td>\n",
       "      <td>152427</td>\n",
       "      <td>0.326</td>\n",
       "      <td>0.000</td>\n",
       "      <td>C#</td>\n",
       "      <td>0.0985</td>\n",
       "      <td>-12.178</td>\n",
       "      <td>Major</td>\n",
       "      <td>0.0395</td>\n",
       "      <td>171.758</td>\n",
       "      <td>4/4</td>\n",
       "      <td>0.227</td>\n",
       "    </tr>\n",
       "    <tr>\n",
       "      <th>4</th>\n",
       "      <td>Movie</td>\n",
       "      <td>Fabien Nataf</td>\n",
       "      <td>Ouverture</td>\n",
       "      <td>0IuslXpMROHdEPvSl1fTQK</td>\n",
       "      <td>4</td>\n",
       "      <td>0.950</td>\n",
       "      <td>0.331</td>\n",
       "      <td>82625</td>\n",
       "      <td>0.225</td>\n",
       "      <td>0.123</td>\n",
       "      <td>F</td>\n",
       "      <td>0.2020</td>\n",
       "      <td>-21.150</td>\n",
       "      <td>Major</td>\n",
       "      <td>0.0456</td>\n",
       "      <td>140.576</td>\n",
       "      <td>4/4</td>\n",
       "      <td>0.390</td>\n",
       "    </tr>\n",
       "  </tbody>\n",
       "</table>\n",
       "</div>"
      ],
      "text/plain": [
       "   genre             artist                             track  \\\n",
       "0  Movie     Henri Salvador       C'est beau de faire un Show   \n",
       "1  Movie  Martin & les fées  Perdu d'avance (par Gad Elmaleh)   \n",
       "2  Movie    Joseph Williams    Don't Let Me Be Lonely Tonight   \n",
       "3  Movie     Henri Salvador    Dis-moi Monsieur Gordon Cooper   \n",
       "4  Movie       Fabien Nataf                         Ouverture   \n",
       "\n",
       "                 track_id  popularity  acousticness  danceability  \\\n",
       "0  0BRjO6ga9RKCKjfDqeFgWV           0         0.611         0.389   \n",
       "1  0BjC1NfoEOOusryehmNudP           1         0.246         0.590   \n",
       "2  0CoSDzoNIKCRs124s9uTVy           3         0.952         0.663   \n",
       "3  0Gc6TVm52BwZD07Ki6tIvf           0         0.703         0.240   \n",
       "4  0IuslXpMROHdEPvSl1fTQK           4         0.950         0.331   \n",
       "\n",
       "   duration_ms  energy  instrumentalness key  liveness  loudness   mode  \\\n",
       "0        99373   0.910             0.000  C#    0.3460    -1.828  Major   \n",
       "1       137373   0.737             0.000  F#    0.1510    -5.559  Minor   \n",
       "2       170267   0.131             0.000   C    0.1030   -13.879  Minor   \n",
       "3       152427   0.326             0.000  C#    0.0985   -12.178  Major   \n",
       "4        82625   0.225             0.123   F    0.2020   -21.150  Major   \n",
       "\n",
       "   speechiness    tempo time_signature  valence  \n",
       "0       0.0525  166.969            4/4    0.814  \n",
       "1       0.0868  174.003            4/4    0.816  \n",
       "2       0.0362   99.488            5/4    0.368  \n",
       "3       0.0395  171.758            4/4    0.227  \n",
       "4       0.0456  140.576            4/4    0.390  "
      ]
     },
     "execution_count": 107,
     "metadata": {},
     "output_type": "execute_result"
    }
   ],
   "source": [
    "# Read-in Song Features dataset\n",
    "features = pd.read_csv(\"data/SpotifyFeatures.csv\")\n",
    "# renaming columns\n",
    "features = features.rename(columns={\"artist_name\":\"artist\",\"track_name\":\"track\"})\n",
    "features.head(5)"
   ]
  },
  {
   "cell_type": "markdown",
   "metadata": {},
   "source": [
    "The 'favorite' column will be the variable that I will try to predict."
   ]
  },
  {
   "cell_type": "code",
   "execution_count": 108,
   "metadata": {},
   "outputs": [],
   "source": [
    "# Create 'favorite' column (favorite = 1, not favorite = 0)\n",
    "features['same_artists'] = features.artist.isin(df.artist) \n",
    "features['same_track'] = features.track.isin(df.track) \n",
    "features[\"favorite\"] = np.where((features[\"same_artists\"] == True) & (features[\"same_track\"] == True),1,0) # If both instances are True.\n",
    "features = features.drop([\"same_artists\",\"same_track\"],axis=1)"
   ]
  },
  {
   "cell_type": "code",
   "execution_count": 109,
   "metadata": {},
   "outputs": [],
   "source": [
    "# For future use\n",
    "future = features.copy(deep=True)"
   ]
  },
  {
   "cell_type": "code",
   "execution_count": 110,
   "metadata": {
    "scrolled": true
   },
   "outputs": [
    {
     "data": {
      "text/plain": [
       "array(['Movie', 'R&B', 'A Capella', 'Alternative', 'Country', 'Dance',\n",
       "       'Electronic', 'Anime', 'Folk', 'Blues', 'Opera', 'Hip-Hop',\n",
       "       \"Children's Music\", 'Children’s Music', 'Rap', 'Indie',\n",
       "       'Classical', 'Pop', 'Reggae', 'Reggaeton', 'Jazz', 'Rock', 'Ska',\n",
       "       'Comedy', 'Soul', 'Soundtrack', 'World'], dtype=object)"
      ]
     },
     "execution_count": 110,
     "metadata": {},
     "output_type": "execute_result"
    }
   ],
   "source": [
    "# Genre \n",
    "features.genre.unique()"
   ]
  },
  {
   "cell_type": "markdown",
   "metadata": {},
   "source": [
    "From the columns, the first one I can remove is 'comedy'. "
   ]
  },
  {
   "cell_type": "code",
   "execution_count": 111,
   "metadata": {},
   "outputs": [],
   "source": [
    "# Removing Comedy \n",
    "features = features[features.genre!='Comedy']\n",
    "# Track_id\n",
    "features = features.drop(columns='track_id')"
   ]
  },
  {
   "cell_type": "markdown",
   "metadata": {},
   "source": [
    "Since all track_ids are unique and track_id merely represents both artist and song name, I will not able to use this feature to predict a favorite song as it is repetitious. We can drop this feature."
   ]
  },
  {
   "cell_type": "code",
   "execution_count": 112,
   "metadata": {},
   "outputs": [],
   "source": [
    "features = features.drop(columns='track')"
   ]
  },
  {
   "cell_type": "markdown",
   "metadata": {},
   "source": [
    "As more than half of the data in the 'track' columns are unique, I believe that there will be a very low correlation between 'track' and 'favorite'. I will also drop this column."
   ]
  },
  {
   "cell_type": "code",
   "execution_count": 113,
   "metadata": {},
   "outputs": [
    {
     "data": {
      "text/html": [
       "<div>\n",
       "<style scoped>\n",
       "    .dataframe tbody tr th:only-of-type {\n",
       "        vertical-align: middle;\n",
       "    }\n",
       "\n",
       "    .dataframe tbody tr th {\n",
       "        vertical-align: top;\n",
       "    }\n",
       "\n",
       "    .dataframe thead th {\n",
       "        text-align: right;\n",
       "    }\n",
       "</style>\n",
       "<table border=\"1\" class=\"dataframe\">\n",
       "  <thead>\n",
       "    <tr style=\"text-align: right;\">\n",
       "      <th></th>\n",
       "      <th>genre</th>\n",
       "      <th>artist</th>\n",
       "      <th>popularity</th>\n",
       "      <th>acousticness</th>\n",
       "      <th>danceability</th>\n",
       "      <th>duration_ms</th>\n",
       "      <th>energy</th>\n",
       "      <th>instrumentalness</th>\n",
       "      <th>key</th>\n",
       "      <th>liveness</th>\n",
       "      <th>loudness</th>\n",
       "      <th>mode</th>\n",
       "      <th>speechiness</th>\n",
       "      <th>tempo</th>\n",
       "      <th>time_signature</th>\n",
       "      <th>valence</th>\n",
       "      <th>favorite</th>\n",
       "    </tr>\n",
       "  </thead>\n",
       "  <tbody>\n",
       "    <tr>\n",
       "      <th>0</th>\n",
       "      <td>Movie</td>\n",
       "      <td>Henri Salvador</td>\n",
       "      <td>0</td>\n",
       "      <td>0.611</td>\n",
       "      <td>0.389</td>\n",
       "      <td>99373</td>\n",
       "      <td>0.91</td>\n",
       "      <td>0.0</td>\n",
       "      <td>C#</td>\n",
       "      <td>0.346</td>\n",
       "      <td>-1.828</td>\n",
       "      <td>Major</td>\n",
       "      <td>0.0525</td>\n",
       "      <td>166.969</td>\n",
       "      <td>4/4</td>\n",
       "      <td>0.814</td>\n",
       "      <td>0</td>\n",
       "    </tr>\n",
       "  </tbody>\n",
       "</table>\n",
       "</div>"
      ],
      "text/plain": [
       "   genre          artist  popularity  acousticness  danceability  duration_ms  \\\n",
       "0  Movie  Henri Salvador           0         0.611         0.389        99373   \n",
       "\n",
       "   energy  instrumentalness key  liveness  loudness   mode  speechiness  \\\n",
       "0    0.91               0.0  C#     0.346    -1.828  Major       0.0525   \n",
       "\n",
       "     tempo time_signature  valence  favorite  \n",
       "0  166.969            4/4    0.814         0  "
      ]
     },
     "execution_count": 113,
     "metadata": {},
     "output_type": "execute_result"
    }
   ],
   "source": [
    "features.head(1)"
   ]
  },
  {
   "cell_type": "markdown",
   "metadata": {},
   "source": [
    "### Model Comparison\n",
    "Now, I want to be able to select which classifier algorithm I want to use for our problem. In order to do this, I will compare three algorithms: Random Forest Classifier, Decision Tree Classifier, and Logistic Regression. "
   ]
  },
  {
   "cell_type": "code",
   "execution_count": 114,
   "metadata": {},
   "outputs": [],
   "source": [
    "# Importing required libraries\n",
    "import sklearn\n",
    "from sklearn.pipeline import Pipeline\n",
    "from sklearn.model_selection import cross_val_score\n",
    "from sklearn.model_selection import train_test_split\n",
    "from sklearn.model_selection import GridSearchCV\n",
    "from sklearn import metrics \n",
    "from sklearn.metrics import f1_score\n",
    "from imblearn.over_sampling import SMOTENC\n",
    "from sklearn.compose import ColumnTransformer\n",
    "from sklearn.preprocessing import OneHotEncoder\n",
    "from sklearn.preprocessing import StandardScaler\n",
    "# Models\n",
    "from sklearn.ensemble import RandomForestClassifier\n",
    "from sklearn.linear_model import LogisticRegression \n",
    "from sklearn.tree import DecisionTreeClassifier"
   ]
  },
  {
   "cell_type": "code",
   "execution_count": 115,
   "metadata": {},
   "outputs": [],
   "source": [
    "# Dataset with only correlated features.\n",
    "n_features = features[['genre','time_signature','popularity','danceability','instrumentalness','favorite']].copy()"
   ]
  },
  {
   "cell_type": "code",
   "execution_count": 60,
   "metadata": {},
   "outputs": [],
   "source": [
    "# Train / Split Data\n",
    "X_train, X_test, y_train, y_test = train_test_split(n_features.drop(columns='favorite'), n_features.favorite,test_size = .20)\n",
    "# Applying SMOTE-ENC\n",
    "smote_nc = SMOTENC(categorical_features=[0,1], random_state=0)\n",
    "X_resampled, y_resampled = smote_nc.fit_resample(X_train, y_train)\n",
    "X_re_test, y_re_test = smote_nc.fit_resample(X_test, y_test)"
   ]
  },
  {
   "cell_type": "code",
   "execution_count": 61,
   "metadata": {},
   "outputs": [],
   "source": [
    "# pipeline \n",
    "cat_feats = ['genre','time_signature']\n",
    "cat_transformer = Pipeline([\n",
    "    ('one-hot', OneHotEncoder())\n",
    "])\n",
    "preproc = ColumnTransformer(transformers=[('cat', cat_transformer, cat_feats)], remainder='passthrough')"
   ]
  },
  {
   "cell_type": "code",
   "execution_count": 87,
   "metadata": {},
   "outputs": [
    {
     "data": {
      "text/plain": [
       "0.8619293621507643"
      ]
     },
     "execution_count": 87,
     "metadata": {},
     "output_type": "execute_result"
    }
   ],
   "source": [
    "# Logistic Regression pipeline \n",
    "lr = Pipeline(steps=[('preprocessor', preproc), ('LogReg', LogisticRegression(max_iter=1000))])\n",
    "lr.fit(X_resampled,y_resampled)\n",
    "lr_preds = lr.predict(X_re_test)\n",
    "f1_score(y_re_test,lr_preds)"
   ]
  },
  {
   "cell_type": "code",
   "execution_count": 79,
   "metadata": {},
   "outputs": [
    {
     "data": {
      "text/plain": [
       "{'max_depth': 30}"
      ]
     },
     "execution_count": 79,
     "metadata": {},
     "output_type": "execute_result"
    }
   ],
   "source": [
    "# Hyperparameter optimization for Decision Tree Classifier\n",
    "parameters = {\n",
    "    'max_depth':[15,20,30],\n",
    "}\n",
    "dtc = Pipeline(steps=[('preprocessor', preproc),('CV',GridSearchCV(DecisionTreeClassifier(), parameters, cv = 5))])\n",
    "dtc.fit(X_resampled, y_resampled)\n",
    "dtc.named_steps['CV'].best_params_"
   ]
  },
  {
   "cell_type": "code",
   "execution_count": 63,
   "metadata": {},
   "outputs": [
    {
     "data": {
      "text/plain": [
       "0.7305177075425208"
      ]
     },
     "execution_count": 63,
     "metadata": {},
     "output_type": "execute_result"
    }
   ],
   "source": [
    "# DecisionTrees pipeline \n",
    "dt = Pipeline(steps=[('preprocessor', preproc), ('LogReg', DecisionTreeClassifier(max_depth=30))])\n",
    "dt.fit(X_resampled,y_resampled)\n",
    "dt_preds = dt.predict(X_re_test)\n",
    "f1_score(y_re_test,dt_preds)"
   ]
  },
  {
   "cell_type": "code",
   "execution_count": 80,
   "metadata": {},
   "outputs": [
    {
     "data": {
      "text/plain": [
       "{'max_depth': 20, 'n_estimators': 20}"
      ]
     },
     "execution_count": 80,
     "metadata": {},
     "output_type": "execute_result"
    }
   ],
   "source": [
    "# Hyperparameter optimization of RandomForestClassifier\n",
    "parameters = {\n",
    "    'max_depth':[6,12,15,20],\n",
    "    'n_estimators':[20,30]\n",
    "}\n",
    "rfc = Pipeline([('preprocessor', preproc),('CV',GridSearchCV(RandomForestClassifier(), parameters, cv = 5))])\n",
    "rfc.fit(X_resampled, y_resampled)\n",
    "rfc.named_steps['CV'].best_params_"
   ]
  },
  {
   "cell_type": "code",
   "execution_count": 81,
   "metadata": {},
   "outputs": [
    {
     "data": {
      "text/plain": [
       "0.8452186137439458"
      ]
     },
     "execution_count": 81,
     "metadata": {},
     "output_type": "execute_result"
    }
   ],
   "source": [
    "# RandomForestTrees pipeline \n",
    "rf = Pipeline(steps=[('preprocessor', preproc), ('LogReg', RandomForestClassifier(max_depth=20,n_estimators=20))])\n",
    "rf.fit(X_resampled,y_resampled)\n",
    "rf_preds = rf.predict(X_re_test)\n",
    "f1_score(y_re_test,rf_preds)"
   ]
  },
  {
   "cell_type": "markdown",
   "metadata": {},
   "source": [
    "### Predicting Songs and Saving Dataset for Personal Use"
   ]
  },
  {
   "cell_type": "code",
   "execution_count": 88,
   "metadata": {},
   "outputs": [],
   "source": [
    "y_pred = lr.predict(n_features.drop(columns=['favorite']))"
   ]
  },
  {
   "cell_type": "code",
   "execution_count": 93,
   "metadata": {},
   "outputs": [],
   "source": [
    "features['prediction'] = y_pred"
   ]
  },
  {
   "cell_type": "code",
   "execution_count": 94,
   "metadata": {},
   "outputs": [],
   "source": [
    "# Gets only songs that were not favorites but are predicted to be\n",
    "features = features[(features['favorite']==0) & (features['prediction'] == 1)]"
   ]
  },
  {
   "cell_type": "code",
   "execution_count": 101,
   "metadata": {},
   "outputs": [
    {
     "data": {
      "text/html": [
       "<div>\n",
       "<style scoped>\n",
       "    .dataframe tbody tr th:only-of-type {\n",
       "        vertical-align: middle;\n",
       "    }\n",
       "\n",
       "    .dataframe tbody tr th {\n",
       "        vertical-align: top;\n",
       "    }\n",
       "\n",
       "    .dataframe thead th {\n",
       "        text-align: right;\n",
       "    }\n",
       "</style>\n",
       "<table border=\"1\" class=\"dataframe\">\n",
       "  <thead>\n",
       "    <tr style=\"text-align: right;\">\n",
       "      <th></th>\n",
       "      <th>genre</th>\n",
       "      <th>artist</th>\n",
       "      <th>track</th>\n",
       "      <th>popularity</th>\n",
       "      <th>acousticness</th>\n",
       "      <th>danceability</th>\n",
       "      <th>duration_ms</th>\n",
       "      <th>energy</th>\n",
       "      <th>instrumentalness</th>\n",
       "      <th>key</th>\n",
       "      <th>liveness</th>\n",
       "      <th>loudness</th>\n",
       "      <th>mode</th>\n",
       "      <th>speechiness</th>\n",
       "      <th>tempo</th>\n",
       "      <th>time_signature</th>\n",
       "      <th>valence</th>\n",
       "      <th>favorite</th>\n",
       "      <th>prediction</th>\n",
       "    </tr>\n",
       "  </thead>\n",
       "  <tbody>\n",
       "    <tr>\n",
       "      <th>135</th>\n",
       "      <td>R&amp;B</td>\n",
       "      <td>Mary J. Blige</td>\n",
       "      <td>Be Without You - Kendu Mix</td>\n",
       "      <td>65</td>\n",
       "      <td>0.0830</td>\n",
       "      <td>0.724</td>\n",
       "      <td>246333</td>\n",
       "      <td>0.689</td>\n",
       "      <td>0.000000</td>\n",
       "      <td>D</td>\n",
       "      <td>0.3040</td>\n",
       "      <td>-5.922</td>\n",
       "      <td>Minor</td>\n",
       "      <td>0.1350</td>\n",
       "      <td>146.496</td>\n",
       "      <td>4/4</td>\n",
       "      <td>0.6930</td>\n",
       "      <td>0</td>\n",
       "      <td>1</td>\n",
       "    </tr>\n",
       "    <tr>\n",
       "      <th>136</th>\n",
       "      <td>R&amp;B</td>\n",
       "      <td>Rihanna</td>\n",
       "      <td>Desperado</td>\n",
       "      <td>63</td>\n",
       "      <td>0.3230</td>\n",
       "      <td>0.685</td>\n",
       "      <td>186467</td>\n",
       "      <td>0.610</td>\n",
       "      <td>0.000000</td>\n",
       "      <td>C</td>\n",
       "      <td>0.1020</td>\n",
       "      <td>-5.221</td>\n",
       "      <td>Minor</td>\n",
       "      <td>0.0439</td>\n",
       "      <td>94.384</td>\n",
       "      <td>3/4</td>\n",
       "      <td>0.3230</td>\n",
       "      <td>0</td>\n",
       "      <td>1</td>\n",
       "    </tr>\n",
       "    <tr>\n",
       "      <th>137</th>\n",
       "      <td>R&amp;B</td>\n",
       "      <td>Yung Bleu</td>\n",
       "      <td>Ice On My Baby (feat. Kevin Gates) - Remix</td>\n",
       "      <td>62</td>\n",
       "      <td>0.0675</td>\n",
       "      <td>0.762</td>\n",
       "      <td>199520</td>\n",
       "      <td>0.520</td>\n",
       "      <td>0.000004</td>\n",
       "      <td>F</td>\n",
       "      <td>0.1140</td>\n",
       "      <td>-5.237</td>\n",
       "      <td>Minor</td>\n",
       "      <td>0.0959</td>\n",
       "      <td>75.047</td>\n",
       "      <td>4/4</td>\n",
       "      <td>0.0862</td>\n",
       "      <td>0</td>\n",
       "      <td>1</td>\n",
       "    </tr>\n",
       "    <tr>\n",
       "      <th>138</th>\n",
       "      <td>R&amp;B</td>\n",
       "      <td>Surfaces</td>\n",
       "      <td>Heaven Falls / Fall on Me</td>\n",
       "      <td>61</td>\n",
       "      <td>0.3600</td>\n",
       "      <td>0.563</td>\n",
       "      <td>240597</td>\n",
       "      <td>0.366</td>\n",
       "      <td>0.002430</td>\n",
       "      <td>B</td>\n",
       "      <td>0.0955</td>\n",
       "      <td>-6.896</td>\n",
       "      <td>Minor</td>\n",
       "      <td>0.1210</td>\n",
       "      <td>85.352</td>\n",
       "      <td>4/4</td>\n",
       "      <td>0.7680</td>\n",
       "      <td>0</td>\n",
       "      <td>1</td>\n",
       "    </tr>\n",
       "    <tr>\n",
       "      <th>139</th>\n",
       "      <td>R&amp;B</td>\n",
       "      <td>Olivia O'Brien</td>\n",
       "      <td>Love Myself</td>\n",
       "      <td>68</td>\n",
       "      <td>0.5960</td>\n",
       "      <td>0.653</td>\n",
       "      <td>213947</td>\n",
       "      <td>0.621</td>\n",
       "      <td>0.000000</td>\n",
       "      <td>B</td>\n",
       "      <td>0.0811</td>\n",
       "      <td>-5.721</td>\n",
       "      <td>Minor</td>\n",
       "      <td>0.0409</td>\n",
       "      <td>100.006</td>\n",
       "      <td>4/4</td>\n",
       "      <td>0.4660</td>\n",
       "      <td>0</td>\n",
       "      <td>1</td>\n",
       "    </tr>\n",
       "    <tr>\n",
       "      <th>...</th>\n",
       "      <td>...</td>\n",
       "      <td>...</td>\n",
       "      <td>...</td>\n",
       "      <td>...</td>\n",
       "      <td>...</td>\n",
       "      <td>...</td>\n",
       "      <td>...</td>\n",
       "      <td>...</td>\n",
       "      <td>...</td>\n",
       "      <td>...</td>\n",
       "      <td>...</td>\n",
       "      <td>...</td>\n",
       "      <td>...</td>\n",
       "      <td>...</td>\n",
       "      <td>...</td>\n",
       "      <td>...</td>\n",
       "      <td>...</td>\n",
       "      <td>...</td>\n",
       "      <td>...</td>\n",
       "    </tr>\n",
       "    <tr>\n",
       "      <th>232446</th>\n",
       "      <td>Soul</td>\n",
       "      <td>Maribou State</td>\n",
       "      <td>The Clown</td>\n",
       "      <td>52</td>\n",
       "      <td>0.4940</td>\n",
       "      <td>0.682</td>\n",
       "      <td>247862</td>\n",
       "      <td>0.595</td>\n",
       "      <td>0.109000</td>\n",
       "      <td>A</td>\n",
       "      <td>0.2700</td>\n",
       "      <td>-7.967</td>\n",
       "      <td>Minor</td>\n",
       "      <td>0.0431</td>\n",
       "      <td>119.997</td>\n",
       "      <td>4/4</td>\n",
       "      <td>0.4000</td>\n",
       "      <td>0</td>\n",
       "      <td>1</td>\n",
       "    </tr>\n",
       "    <tr>\n",
       "      <th>232480</th>\n",
       "      <td>Soul</td>\n",
       "      <td>Lisa Stansfield</td>\n",
       "      <td>So Be It - Soultalk Remix</td>\n",
       "      <td>51</td>\n",
       "      <td>0.1240</td>\n",
       "      <td>0.761</td>\n",
       "      <td>251533</td>\n",
       "      <td>0.753</td>\n",
       "      <td>0.000004</td>\n",
       "      <td>B</td>\n",
       "      <td>0.1120</td>\n",
       "      <td>-6.728</td>\n",
       "      <td>Major</td>\n",
       "      <td>0.0325</td>\n",
       "      <td>104.967</td>\n",
       "      <td>4/4</td>\n",
       "      <td>0.8280</td>\n",
       "      <td>0</td>\n",
       "      <td>1</td>\n",
       "    </tr>\n",
       "    <tr>\n",
       "      <th>232502</th>\n",
       "      <td>Soul</td>\n",
       "      <td>Fat Larry's Band</td>\n",
       "      <td>Act Like You Know</td>\n",
       "      <td>50</td>\n",
       "      <td>0.2400</td>\n",
       "      <td>0.745</td>\n",
       "      <td>390013</td>\n",
       "      <td>0.781</td>\n",
       "      <td>0.000003</td>\n",
       "      <td>F</td>\n",
       "      <td>0.1000</td>\n",
       "      <td>-7.701</td>\n",
       "      <td>Minor</td>\n",
       "      <td>0.1250</td>\n",
       "      <td>103.303</td>\n",
       "      <td>4/4</td>\n",
       "      <td>0.8430</td>\n",
       "      <td>0</td>\n",
       "      <td>1</td>\n",
       "    </tr>\n",
       "    <tr>\n",
       "      <th>232513</th>\n",
       "      <td>Soul</td>\n",
       "      <td>Paolo Nutini</td>\n",
       "      <td>Rewind</td>\n",
       "      <td>52</td>\n",
       "      <td>0.1100</td>\n",
       "      <td>0.517</td>\n",
       "      <td>258013</td>\n",
       "      <td>0.422</td>\n",
       "      <td>0.000000</td>\n",
       "      <td>C</td>\n",
       "      <td>0.1100</td>\n",
       "      <td>-9.227</td>\n",
       "      <td>Major</td>\n",
       "      <td>0.0334</td>\n",
       "      <td>87.633</td>\n",
       "      <td>4/4</td>\n",
       "      <td>0.2400</td>\n",
       "      <td>0</td>\n",
       "      <td>1</td>\n",
       "    </tr>\n",
       "    <tr>\n",
       "      <th>232630</th>\n",
       "      <td>Soul</td>\n",
       "      <td>Freddie Hubbard</td>\n",
       "      <td>Gypsy Blue - The Rudy Van Gelder Edition/2002 ...</td>\n",
       "      <td>50</td>\n",
       "      <td>0.7150</td>\n",
       "      <td>0.490</td>\n",
       "      <td>388027</td>\n",
       "      <td>0.410</td>\n",
       "      <td>0.001840</td>\n",
       "      <td>C#</td>\n",
       "      <td>0.2000</td>\n",
       "      <td>-9.770</td>\n",
       "      <td>Major</td>\n",
       "      <td>0.0671</td>\n",
       "      <td>138.873</td>\n",
       "      <td>4/4</td>\n",
       "      <td>0.6800</td>\n",
       "      <td>0</td>\n",
       "      <td>1</td>\n",
       "    </tr>\n",
       "  </tbody>\n",
       "</table>\n",
       "<p>50312 rows × 19 columns</p>\n",
       "</div>"
      ],
      "text/plain": [
       "       genre            artist  \\\n",
       "135      R&B     Mary J. Blige   \n",
       "136      R&B           Rihanna   \n",
       "137      R&B         Yung Bleu   \n",
       "138      R&B          Surfaces   \n",
       "139      R&B    Olivia O'Brien   \n",
       "...      ...               ...   \n",
       "232446  Soul     Maribou State   \n",
       "232480  Soul   Lisa Stansfield   \n",
       "232502  Soul  Fat Larry's Band   \n",
       "232513  Soul      Paolo Nutini   \n",
       "232630  Soul   Freddie Hubbard   \n",
       "\n",
       "                                                    track  popularity  \\\n",
       "135                            Be Without You - Kendu Mix          65   \n",
       "136                                             Desperado          63   \n",
       "137            Ice On My Baby (feat. Kevin Gates) - Remix          62   \n",
       "138                             Heaven Falls / Fall on Me          61   \n",
       "139                                           Love Myself          68   \n",
       "...                                                   ...         ...   \n",
       "232446                                          The Clown          52   \n",
       "232480                          So Be It - Soultalk Remix          51   \n",
       "232502                                  Act Like You Know          50   \n",
       "232513                                             Rewind          52   \n",
       "232630  Gypsy Blue - The Rudy Van Gelder Edition/2002 ...          50   \n",
       "\n",
       "        acousticness  danceability  duration_ms  energy  instrumentalness key  \\\n",
       "135           0.0830         0.724       246333   0.689          0.000000   D   \n",
       "136           0.3230         0.685       186467   0.610          0.000000   C   \n",
       "137           0.0675         0.762       199520   0.520          0.000004   F   \n",
       "138           0.3600         0.563       240597   0.366          0.002430   B   \n",
       "139           0.5960         0.653       213947   0.621          0.000000   B   \n",
       "...              ...           ...          ...     ...               ...  ..   \n",
       "232446        0.4940         0.682       247862   0.595          0.109000   A   \n",
       "232480        0.1240         0.761       251533   0.753          0.000004   B   \n",
       "232502        0.2400         0.745       390013   0.781          0.000003   F   \n",
       "232513        0.1100         0.517       258013   0.422          0.000000   C   \n",
       "232630        0.7150         0.490       388027   0.410          0.001840  C#   \n",
       "\n",
       "        liveness  loudness   mode  speechiness    tempo time_signature  \\\n",
       "135       0.3040    -5.922  Minor       0.1350  146.496            4/4   \n",
       "136       0.1020    -5.221  Minor       0.0439   94.384            3/4   \n",
       "137       0.1140    -5.237  Minor       0.0959   75.047            4/4   \n",
       "138       0.0955    -6.896  Minor       0.1210   85.352            4/4   \n",
       "139       0.0811    -5.721  Minor       0.0409  100.006            4/4   \n",
       "...          ...       ...    ...          ...      ...            ...   \n",
       "232446    0.2700    -7.967  Minor       0.0431  119.997            4/4   \n",
       "232480    0.1120    -6.728  Major       0.0325  104.967            4/4   \n",
       "232502    0.1000    -7.701  Minor       0.1250  103.303            4/4   \n",
       "232513    0.1100    -9.227  Major       0.0334   87.633            4/4   \n",
       "232630    0.2000    -9.770  Major       0.0671  138.873            4/4   \n",
       "\n",
       "        valence  favorite  prediction  \n",
       "135      0.6930         0           1  \n",
       "136      0.3230         0           1  \n",
       "137      0.0862         0           1  \n",
       "138      0.7680         0           1  \n",
       "139      0.4660         0           1  \n",
       "...         ...       ...         ...  \n",
       "232446   0.4000         0           1  \n",
       "232480   0.8280         0           1  \n",
       "232502   0.8430         0           1  \n",
       "232513   0.2400         0           1  \n",
       "232630   0.6800         0           1  \n",
       "\n",
       "[50312 rows x 19 columns]"
      ]
     },
     "execution_count": 101,
     "metadata": {},
     "output_type": "execute_result"
    }
   ],
   "source": [
    "features"
   ]
  },
  {
   "cell_type": "code",
   "execution_count": 218,
   "metadata": {},
   "outputs": [],
   "source": [
    "# Saving csv\n",
    "future.to_csv(\"recommendations.csv\")"
   ]
  },
  {
   "cell_type": "markdown",
   "metadata": {},
   "source": [
    "### Now I can use my .csv to Spotify playlist script and enjoy the recommendations! "
   ]
  }
 ],
 "metadata": {
  "kernelspec": {
   "display_name": "Python 3",
   "language": "python",
   "name": "python3"
  },
  "language_info": {
   "codemirror_mode": {
    "name": "ipython",
    "version": 3
   },
   "file_extension": ".py",
   "mimetype": "text/x-python",
   "name": "python",
   "nbconvert_exporter": "python",
   "pygments_lexer": "ipython3",
   "version": "3.8.2"
  }
 },
 "nbformat": 4,
 "nbformat_minor": 2
}
